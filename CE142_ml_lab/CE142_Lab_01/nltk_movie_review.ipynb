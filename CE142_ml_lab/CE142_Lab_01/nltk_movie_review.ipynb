{
 "cells": [
  {
   "cell_type": "code",
   "execution_count": 62,
   "id": "07a4080a",
   "metadata": {},
   "outputs": [
    {
     "name": "stderr",
     "output_type": "stream",
     "text": [
      "[nltk_data] Downloading package omw-1.4 to\n",
      "[nltk_data]     /Users/yashthakkar/nltk_data...\n",
      "[nltk_data]   Package omw-1.4 is already up-to-date!\n"
     ]
    }
   ],
   "source": [
    "import random\n",
    "import nltk\n",
    "nltk.download('omw-1.4')\n",
    "import matplotlib.pyplot as plt\n",
    "%matplotlib inline"
   ]
  },
  {
   "cell_type": "code",
   "execution_count": 3,
   "id": "0ace56db",
   "metadata": {},
   "outputs": [],
   "source": [
    "import pandas as pd"
   ]
  },
  {
   "cell_type": "code",
   "execution_count": 4,
   "id": "61e1cff8",
   "metadata": {},
   "outputs": [],
   "source": [
    "import numpy as np"
   ]
  },
  {
   "cell_type": "code",
   "execution_count": 17,
   "id": "39f0fab3",
   "metadata": {},
   "outputs": [
    {
     "data": {
      "text/html": [
       "<div>\n",
       "<style scoped>\n",
       "    .dataframe tbody tr th:only-of-type {\n",
       "        vertical-align: middle;\n",
       "    }\n",
       "\n",
       "    .dataframe tbody tr th {\n",
       "        vertical-align: top;\n",
       "    }\n",
       "\n",
       "    .dataframe thead th {\n",
       "        text-align: right;\n",
       "    }\n",
       "</style>\n",
       "<table border=\"1\" class=\"dataframe\">\n",
       "  <thead>\n",
       "    <tr style=\"text-align: right;\">\n",
       "      <th></th>\n",
       "      <th>fold_id</th>\n",
       "      <th>cv_tag</th>\n",
       "      <th>html_id</th>\n",
       "      <th>sent_id</th>\n",
       "      <th>text</th>\n",
       "      <th>tag</th>\n",
       "    </tr>\n",
       "  </thead>\n",
       "  <tbody>\n",
       "    <tr>\n",
       "      <th>0</th>\n",
       "      <td>0</td>\n",
       "      <td>cv000</td>\n",
       "      <td>29590</td>\n",
       "      <td>0</td>\n",
       "      <td>films adapted from comic books have had plenty...</td>\n",
       "      <td>pos</td>\n",
       "    </tr>\n",
       "    <tr>\n",
       "      <th>1</th>\n",
       "      <td>0</td>\n",
       "      <td>cv000</td>\n",
       "      <td>29590</td>\n",
       "      <td>1</td>\n",
       "      <td>for starters , it was created by alan moore ( ...</td>\n",
       "      <td>pos</td>\n",
       "    </tr>\n",
       "    <tr>\n",
       "      <th>2</th>\n",
       "      <td>0</td>\n",
       "      <td>cv000</td>\n",
       "      <td>29590</td>\n",
       "      <td>2</td>\n",
       "      <td>to say moore and campbell thoroughly researche...</td>\n",
       "      <td>pos</td>\n",
       "    </tr>\n",
       "    <tr>\n",
       "      <th>3</th>\n",
       "      <td>0</td>\n",
       "      <td>cv000</td>\n",
       "      <td>29590</td>\n",
       "      <td>3</td>\n",
       "      <td>the book ( or \" graphic novel , \" if you will ...</td>\n",
       "      <td>pos</td>\n",
       "    </tr>\n",
       "    <tr>\n",
       "      <th>4</th>\n",
       "      <td>0</td>\n",
       "      <td>cv000</td>\n",
       "      <td>29590</td>\n",
       "      <td>4</td>\n",
       "      <td>in other words , don't dismiss this film becau...</td>\n",
       "      <td>pos</td>\n",
       "    </tr>\n",
       "  </tbody>\n",
       "</table>\n",
       "</div>"
      ],
      "text/plain": [
       "   fold_id cv_tag  html_id  sent_id  \\\n",
       "0        0  cv000    29590        0   \n",
       "1        0  cv000    29590        1   \n",
       "2        0  cv000    29590        2   \n",
       "3        0  cv000    29590        3   \n",
       "4        0  cv000    29590        4   \n",
       "\n",
       "                                                text  tag  \n",
       "0  films adapted from comic books have had plenty...  pos  \n",
       "1  for starters , it was created by alan moore ( ...  pos  \n",
       "2  to say moore and campbell thoroughly researche...  pos  \n",
       "3  the book ( or \" graphic novel , \" if you will ...  pos  \n",
       "4  in other words , don't dismiss this film becau...  pos  "
      ]
     },
     "execution_count": 17,
     "metadata": {},
     "output_type": "execute_result"
    }
   ],
   "source": [
    "df=pd.read_csv(\"movie_review.csv\")\n",
    "df.head()\n"
   ]
  },
  {
   "cell_type": "code",
   "execution_count": 16,
   "id": "54440266",
   "metadata": {},
   "outputs": [
    {
     "data": {
      "text/plain": [
       "(64720, 6)"
      ]
     },
     "execution_count": 16,
     "metadata": {},
     "output_type": "execute_result"
    }
   ],
   "source": [
    "df.head()\n"
   ]
  },
  {
   "cell_type": "code",
   "execution_count": 12,
   "id": "4e6b0efd",
   "metadata": {},
   "outputs": [],
   "source": [
    "import seaborn as sns"
   ]
  },
  {
   "cell_type": "code",
   "execution_count": 24,
   "id": "0665daf0",
   "metadata": {},
   "outputs": [],
   "source": [
    "import re # library for regular expression␣\n",
    "\n",
    "import string # for string operations\n",
    "from nltk.corpus import stopwords # module for stop words that come␣\n",
    "\n",
    "from nltk.stem import PorterStemmer # module for stemming\n",
    "from nltk.tokenize import TweetTokenizer # module for tokenizing strings\n",
    "from nltk.stem import WordNetLemmatizer"
   ]
  },
  {
   "cell_type": "code",
   "execution_count": 30,
   "id": "a3110608",
   "metadata": {},
   "outputs": [],
   "source": [
    "all_positive_reviews=[]\n",
    "for i in range(df[\"sent_id\"].count()):\n",
    "    if df.loc[i,\"tag\"]==\"pos\":\n",
    "        all_positive_reviews.append(df.loc[i,\"text\"])\n"
   ]
  },
  {
   "cell_type": "code",
   "execution_count": 32,
   "id": "5141a368",
   "metadata": {},
   "outputs": [
    {
     "data": {
      "text/plain": [
       "32937"
      ]
     },
     "execution_count": 32,
     "metadata": {},
     "output_type": "execute_result"
    }
   ],
   "source": [
    "len(all_positive_reviews)"
   ]
  },
  {
   "cell_type": "code",
   "execution_count": 33,
   "id": "67837a53",
   "metadata": {},
   "outputs": [],
   "source": [
    "all_negative_reviews=[]\n",
    "for i in range(df[\"sent_id\"].count()):\n",
    "    if df.loc[i,\"tag\"]==\"neg\":\n",
    "        all_negative_reviews.append(df.loc[i,\"text\"])"
   ]
  },
  {
   "cell_type": "code",
   "execution_count": 34,
   "id": "753a6cb0",
   "metadata": {},
   "outputs": [
    {
     "data": {
      "text/plain": [
       "31783"
      ]
     },
     "execution_count": 34,
     "metadata": {},
     "output_type": "execute_result"
    }
   ],
   "source": [
    "len(all_negative_reviews)"
   ]
  },
  {
   "cell_type": "code",
   "execution_count": 36,
   "id": "df4faa8a",
   "metadata": {},
   "outputs": [
    {
     "data": {
      "text/plain": [
       "<AxesSubplot:xlabel='tag', ylabel='count'>"
      ]
     },
     "execution_count": 36,
     "metadata": {},
     "output_type": "execute_result"
    },
    {
     "data": {
      "image/png": "[encoded data removed]",
      "text/plain": [
       "<Figure size 640x480 with 1 Axes>"
      ]
     },
     "metadata": {},
     "output_type": "display_data"
    }
   ],
   "source": [
    "sns.countplot(x=df[\"tag\"])"
   ]
  },
  {
   "cell_type": "code",
   "execution_count": 38,
   "id": "8cbe1431",
   "metadata": {},
   "outputs": [
    {
     "data": {
      "text/plain": [
       "<Figure size 500x500 with 0 Axes>"
      ]
     },
     "metadata": {},
     "output_type": "display_data"
    }
   ],
   "source": [
    "fig = plt.figure(figsize=(5, 5))\n",
    "# labels for the two classes\n",
    "labels = 'Positives', 'Negative'"
   ]
  },
  {
   "cell_type": "code",
   "execution_count": 40,
   "id": "e8f9ebcf",
   "metadata": {},
   "outputs": [
    {
     "data": {
      "image/png": "[encoded data removed]",
      "text/plain": [
       "<Figure size 640x480 with 1 Axes>"
      ]
     },
     "metadata": {},
     "output_type": "display_data"
    }
   ],
   "source": [
    "sizes = [len(all_positive_reviews), len(all_negative_reviews)]\n",
    "# Declare pie chart, where the slices will be ordered and plotted␣\n",
    "\n",
    "plt.pie(sizes, labels=labels, autopct='%1.1f%%',\n",
    "shadow=True, startangle=90)\n",
    "# Equal aspect ratio ensures that pie is drawn as a circle.\n",
    "plt.axis('equal')\n",
    "# Display the chart\n",
    "plt.show()"
   ]
  },
  {
   "cell_type": "code",
   "execution_count": 43,
   "id": "4a649760",
   "metadata": {},
   "outputs": [
    {
     "name": "stdout",
     "output_type": "stream",
     "text": [
      "\u001b[92mno film in recent has left me with such conflicted feelings as neil jordan's harrowing , humorous , horrifying adaptation of patrick mccabe's novel about young lad francie brady's ( eamonn owens ) descent into madness in 1960s ireland .\n",
      "\u001b[91mit never does explain why his character has such superb martial arts skills . . . perhaps he was in the same cooking class as steven seagal in under siege ?\n"
     ]
    }
   ],
   "source": [
    "# print positive in greeen\n",
    "print('\\033[92m' + all_positive_reviews[random.randint(0,3000)])\n",
    "# print negative in red\n",
    "print('\\033[91m' + all_negative_reviews[random.randint(0,3000)])"
   ]
  },
  {
   "cell_type": "markdown",
   "id": "bb2e3879",
   "metadata": {},
   "source": [
    "# Data preprocessing"
   ]
  },
  {
   "cell_type": "code",
   "execution_count": 44,
   "id": "3221c343",
   "metadata": {},
   "outputs": [
    {
     "name": "stdout",
     "output_type": "stream",
     "text": [
      "jackson is funny as ever as ever ; in fact , his spirited line deliveries , especially when he first appears , are more than reminiscent of his work as jules in pulp fiction .\n"
     ]
    }
   ],
   "source": [
    "# Our selected sample\n",
    "review = all_positive_reviews[2277]\n",
    "print(review)"
   ]
  },
  {
   "cell_type": "code",
   "execution_count": 45,
   "id": "96165f17",
   "metadata": {},
   "outputs": [
    {
     "name": "stderr",
     "output_type": "stream",
     "text": [
      "[nltk_data] Downloading package stopwords to\n",
      "[nltk_data]     /Users/yashthakkar/nltk_data...\n",
      "[nltk_data]   Package stopwords is already up-to-date!\n"
     ]
    },
    {
     "data": {
      "text/plain": [
       "True"
      ]
     },
     "execution_count": 45,
     "metadata": {},
     "output_type": "execute_result"
    }
   ],
   "source": [
    "nltk.download('stopwords')"
   ]
  },
  {
   "cell_type": "code",
   "execution_count": 47,
   "id": "6e8011c7",
   "metadata": {},
   "outputs": [],
   "source": [
    " import re # library for regular expression␣\n",
    "\n",
    "import string # for string operations\n",
    "from nltk.corpus import stopwords # module for stop words that come␣\n",
    "\n",
    "from nltk.stem import PorterStemmer # module for stemming\n",
    "from nltk.tokenize import TweetTokenizer # module for tokenizing strings\n",
    "from nltk.stem import WordNetLemmatizer"
   ]
  },
  {
   "cell_type": "markdown",
   "id": "9a6880b2",
   "metadata": {},
   "source": [
    "# Remove hyperlinks"
   ]
  },
  {
   "cell_type": "code",
   "execution_count": 49,
   "id": "b47b54bc",
   "metadata": {},
   "outputs": [
    {
     "name": "stdout",
     "output_type": "stream",
     "text": [
      "\u001b[92mjackson is funny as ever as ever ; in fact , his spirited line deliveries , especially when he first appears , are more than reminiscent of his work as jules in pulp fiction .\n",
      "\u001b[94m\n",
      "jackson is funny as ever as ever ; in fact , his spirited line deliveries , especially when he first appears , are more than reminiscent of his work as jules in pulp fiction .\n"
     ]
    }
   ],
   "source": [
    "print('\\033[92m' + review)\n",
    "print('\\033[94m')\n",
    "# remove hyperlinks\n",
    "review2 = re.sub(r'https?:\\/\\/.*[\\r\\n]*', '', review)\n",
    "# remove hashtags\n",
    "# only removing the hash # sign from the word\n",
    "review2 = re.sub(r'#', '', review2)\n",
    "print(review2)"
   ]
  },
  {
   "cell_type": "code",
   "execution_count": 50,
   "id": "a36468fd",
   "metadata": {},
   "outputs": [
    {
     "name": "stdout",
     "output_type": "stream",
     "text": [
      "\n",
      "\u001b[92mjackson is funny as ever as ever ; in fact , his spirited line deliveries , especially when he first appears , are more than reminiscent of his work as jules in pulp fiction .\n",
      "\u001b[94m\n",
      "\n",
      "Tokenized string:\n",
      "['jackson', 'is', 'funny', 'as', 'ever', 'as', 'ever', ';', 'in', 'fact', ',', 'his', 'spirited', 'line', 'deliveries', ',', 'especially', 'when', 'he', 'first', 'appears', ',', 'are', 'more', 'than', 'reminiscent', 'of', 'his', 'work', 'as', 'jules', 'in', 'pulp', 'fiction', '.']\n"
     ]
    }
   ],
   "source": [
    "print()\n",
    "print('\\033[92m' + review2)\n",
    "print('\\033[94m')\n",
    "# instantiate tokenizer class\n",
    "tokenizer = TweetTokenizer(preserve_case=False)\n",
    "# tokenize tweets\n",
    "tweet_tokens = tokenizer.tokenize(review2)\n",
    "print()\n",
    "print('Tokenized string:')\n",
    "print(tweet_tokens)"
   ]
  },
  {
   "cell_type": "code",
   "execution_count": 51,
   "id": "18d7d308",
   "metadata": {},
   "outputs": [
    {
     "name": "stdout",
     "output_type": "stream",
     "text": [
      "Stop words\n",
      "\n",
      "['i', 'me', 'my', 'myself', 'we', 'our', 'ours', 'ourselves', 'you', \"you're\", \"you've\", \"you'll\", \"you'd\", 'your', 'yours', 'yourself', 'yourselves', 'he', 'him', 'his', 'himself', 'she', \"she's\", 'her', 'hers', 'herself', 'it', \"it's\", 'its', 'itself', 'they', 'them', 'their', 'theirs', 'themselves', 'what', 'which', 'who', 'whom', 'this', 'that', \"that'll\", 'these', 'those', 'am', 'is', 'are', 'was', 'were', 'be', 'been', 'being', 'have', 'has', 'had', 'having', 'do', 'does', 'did', 'doing', 'a', 'an', 'the', 'and', 'but', 'if', 'or', 'because', 'as', 'until', 'while', 'of', 'at', 'by', 'for', 'with', 'about', 'against', 'between', 'into', 'through', 'during', 'before', 'after', 'above', 'below', 'to', 'from', 'up', 'down', 'in', 'out', 'on', 'off', 'over', 'under', 'again', 'further', 'then', 'once', 'here', 'there', 'when', 'where', 'why', 'how', 'all', 'any', 'both', 'each', 'few', 'more', 'most', 'other', 'some', 'such', 'no', 'nor', 'not', 'only', 'own', 'same', 'so', 'than', 'too', 'very', 's', 't', 'can', 'will', 'just', 'don', \"don't\", 'should', \"should've\", 'now', 'd', 'll', 'm', 'o', 're', 've', 'y', 'ain', 'aren', \"aren't\", 'couldn', \"couldn't\", 'didn', \"didn't\", 'doesn', \"doesn't\", 'hadn', \"hadn't\", 'hasn', \"hasn't\", 'haven', \"haven't\", 'isn', \"isn't\", 'ma', 'mightn', \"mightn't\", 'mustn', \"mustn't\", 'needn', \"needn't\", 'shan', \"shan't\", 'shouldn', \"shouldn't\", 'wasn', \"wasn't\", 'weren', \"weren't\", 'won', \"won't\", 'wouldn', \"wouldn't\"]\n",
      "\n",
      "Punctuation\n",
      "\n",
      "!\"#$%&'()*+,-./:;<=>?@[\\]^_`{|}~\n"
     ]
    }
   ],
   "source": [
    "stopwords_english = stopwords.words('english')\n",
    "print('Stop words\\n')\n",
    "print(stopwords_english)\n",
    "print('\\nPunctuation\\n')\n",
    "print(string.punctuation)"
   ]
  },
  {
   "cell_type": "code",
   "execution_count": 53,
   "id": "6ba8de56",
   "metadata": {},
   "outputs": [
    {
     "name": "stdout",
     "output_type": "stream",
     "text": [
      "\n",
      "\u001b[92m\n",
      "['jackson', 'is', 'funny', 'as', 'ever', 'as', 'ever', ';', 'in', 'fact', ',', 'his', 'spirited', 'line', 'deliveries', ',', 'especially', 'when', 'he', 'first', 'appears', ',', 'are', 'more', 'than', 'reminiscent', 'of', 'his', 'work', 'as', 'jules', 'in', 'pulp', 'fiction', '.']\n",
      "\u001b[94m\n",
      "removed stop words and punctuation:\n",
      "['jackson', 'funny', 'ever', 'ever', 'fact', 'spirited', 'line', 'deliveries', 'especially', 'first', 'appears', 'reminiscent', 'work', 'jules', 'pulp', 'fiction']\n"
     ]
    }
   ],
   "source": [
    "print()\n",
    "print('\\033[92m')\n",
    "print(tweet_tokens)\n",
    "print('\\033[94m')\n",
    "tweets_clean = []\n",
    "for word in tweet_tokens: # Go through every word in your tokens list\n",
    "        if (word not in stopwords_english and # remove stopwords\n",
    "            word not in string.punctuation): # remove punctuation\n",
    "            tweets_clean.append(word)\n",
    "print('removed stop words and punctuation:')\n",
    "print(tweets_clean)"
   ]
  },
  {
   "cell_type": "markdown",
   "id": "d97cd873",
   "metadata": {},
   "source": [
    "# Stemming"
   ]
  },
  {
   "cell_type": "code",
   "execution_count": 54,
   "id": "7810239e",
   "metadata": {},
   "outputs": [
    {
     "name": "stdout",
     "output_type": "stream",
     "text": [
      "\n",
      "\u001b[92m\n",
      "['jackson', 'funny', 'ever', 'ever', 'fact', 'spirited', 'line', 'deliveries', 'especially', 'first', 'appears', 'reminiscent', 'work', 'jules', 'pulp', 'fiction']\n",
      "\u001b[94m\n",
      "stemmed words:\n",
      "['jackson', 'funni', 'ever', 'ever', 'fact', 'spirit', 'line', 'deliveri', 'especi', 'first', 'appear', 'reminisc', 'work', 'jule', 'pulp', 'fiction']\n"
     ]
    }
   ],
   "source": [
    "print()\n",
    "print('\\033[92m')\n",
    "print(tweets_clean)\n",
    "print('\\033[94m')\n",
    "# Instantiate stemming class\n",
    "stemmer = PorterStemmer()\n",
    "# Create an empty list to store the stems\n",
    "tweets_stem = []\n",
    "for word in tweets_clean:\n",
    "    stem_word = stemmer.stem(word) # stemming word\n",
    "    tweets_stem.append(stem_word) # append to the list\n",
    "print('stemmed words:')\n",
    "print(tweets_stem)"
   ]
  },
  {
   "cell_type": "code",
   "execution_count": 56,
   "id": "c20d50b8",
   "metadata": {},
   "outputs": [
    {
     "name": "stdout",
     "output_type": "stream",
     "text": [
      "\n",
      "\u001b[92m\n",
      "['jackson', 'funny', 'ever', 'ever', 'fact', 'spirited', 'line', 'deliveries', 'especially', 'first', 'appears', 'reminiscent', 'work', 'jules', 'pulp', 'fiction']\n",
      "\u001b[94m\n",
      "stemmed words:\n",
      "['happier', 'happi', 'happi', 'studi', 'studi', 'studi', 'meet']\n"
     ]
    }
   ],
   "source": [
    "words =['happier','happiness','happy','studying','study','studies','meeting']\n",
    "print()\n",
    "print('\\033[92m')\n",
    "print(tweets_clean)\n",
    "print('\\033[94m')\n",
    "# Instantiate stemming class\n",
    "stemmer = PorterStemmer()\n",
    "# Create an empty list to store the stems\n",
    "tweets_stem = []\n",
    "for word in words:\n",
    "    stem_word = stemmer.stem(word) # stemming word\n",
    "    tweets_stem.append(stem_word) # append to the list\n",
    "print('stemmed words:')\n",
    "print(tweets_stem)"
   ]
  },
  {
   "cell_type": "code",
   "execution_count": 57,
   "id": "ef7e4f3a",
   "metadata": {},
   "outputs": [
    {
     "name": "stderr",
     "output_type": "stream",
     "text": [
      "[nltk_data] Downloading package wordnet to\n",
      "[nltk_data]     /Users/yashthakkar/nltk_data...\n"
     ]
    },
    {
     "data": {
      "text/plain": [
       "True"
      ]
     },
     "execution_count": 57,
     "metadata": {},
     "output_type": "execute_result"
    }
   ],
   "source": [
    "import nltk\n",
    "nltk.download('wordnet')"
   ]
  },
  {
   "cell_type": "code",
   "execution_count": 64,
   "id": "66bb6639",
   "metadata": {},
   "outputs": [
    {
     "name": "stdout",
     "output_type": "stream",
     "text": [
      "\n",
      "\u001b[92m\n",
      "['jackson', 'funny', 'ever', 'ever', 'fact', 'spirited', 'line', 'deliveries', 'especially', 'first', 'appears', 'reminiscent', 'work', 'jules', 'pulp', 'fiction']\n",
      "\u001b[94m\n",
      "lemmatized words:\n",
      "['jackson', 'funny', 'ever', 'ever', 'fact', 'spirited', 'line', 'delivery', 'especially', 'first', 'appears', 'reminiscent', 'work', 'jules', 'pulp', 'fiction']\n"
     ]
    }
   ],
   "source": [
    "print()\n",
    "print('\\033[92m')\n",
    "print(tweets_clean)\n",
    "print('\\033[94m')\n",
    "# Instantiate stemming class\n",
    "wordnet_lemmatizer = WordNetLemmatizer()\n",
    "# Create an empty list to store the stems\n",
    "tweets_lem = []\n",
    "for word in tweets_clean:\n",
    "    lem_words = wordnet_lemmatizer.lemmatize(word)# stemming word\n",
    "    tweets_lem.append(lem_words) # append to the list\n",
    "print('lemmatized words:')\n",
    "print(tweets_lem)"
   ]
  },
  {
   "cell_type": "code",
   "execution_count": 65,
   "id": "91fa6315",
   "metadata": {},
   "outputs": [
    {
     "name": "stdout",
     "output_type": "stream",
     "text": [
      "\n",
      "\u001b[92m\n",
      "['jackson', 'funny', 'ever', 'ever', 'fact', 'spirited', 'line', 'deliveries', 'especially', 'first', 'appears', 'reminiscent', 'work', 'jules', 'pulp', 'fiction']\n",
      "\u001b[94m\n",
      "lemmatized words:\n",
      "['happier', 'happiness', 'happy', 'study', 'study', 'study', 'meet']\n"
     ]
    }
   ],
   "source": [
    " print()\n",
    "print('\\033[92m')\n",
    "print(tweets_clean)\n",
    "print('\\033[94m')\n",
    "# Instantiate stemming class\n",
    "wordnet_lemmatizer = WordNetLemmatizer()\n",
    "# Create an empty list to store the stems\n",
    "tweets_lem = []\n",
    "for word in words:\n",
    "    lem_words = wordnet_lemmatizer.lemmatize(word,pos =\"v\")# stemming word\n",
    "    tweets_lem.append(lem_words) # append to the list\n",
    "print('lemmatized words:')\n",
    "print(tweets_lem)"
   ]
  },
  {
   "cell_type": "code",
   "execution_count": null,
   "id": "95186d97",
   "metadata": {},
   "outputs": [],
   "source": []
  }
 ],
 "metadata": {
  "kernelspec": {
   "display_name": "Python 3 (ipykernel)",
   "language": "python",
   "name": "python3"
  },
  "language_info": {
   "codemirror_mode": {
    "name": "ipython",
    "version": 3
   },
   "file_extension": ".py",
   "mimetype": "text/x-python",
   "name": "python",
   "nbconvert_exporter": "python",
   "pygments_lexer": "ipython3",
   "version": "3.9.13"
  }
 },
 "nbformat": 4,
 "nbformat_minor": 5
}
