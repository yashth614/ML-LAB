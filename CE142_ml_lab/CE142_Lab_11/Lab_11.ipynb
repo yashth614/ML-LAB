{
  "nbformat": 4,
  "nbformat_minor": 0,
  "metadata": {
    "colab": {
      "provenance": []
    },
    "kernelspec": {
      "name": "python3",
      "display_name": "Python 3"
    },
    "language_info": {
      "name": "python"
    }
  },
  "cells": [
    {
      "cell_type": "markdown",
      "source": [
        "# Part A: Basic SVM with Linear Kernel"
      ],
      "metadata": {
        "id": "t87VARyOkLO5"
      }
    },
    {
      "cell_type": "code",
      "execution_count": null,
      "metadata": {
        "id": "Wjk_BENtW8BQ"
      },
      "outputs": [],
      "source": [
        "import sys, os\n",
        "import matplotlib.pyplot as plt\n",
        "from sklearn import svm\n",
        "from sklearn.model_selection import train_test_split\n",
        "import numpy as np"
      ]
    },
    {
      "cell_type": "code",
      "source": [
        "# importing scikit learn with make_blobs\n",
        "from sklearn.datasets import make_blobs"
      ],
      "metadata": {
        "id": "73mHFxjYXCeB"
      },
      "execution_count": null,
      "outputs": []
    },
    {
      "cell_type": "code",
      "source": [
        "X, y = make_blobs(n_samples=100, centers=2, n_features=2, random_state=54)\n",
        "\n",
        "# plot the dataset\n",
        "plt.scatter(X[:, 0], X[:, 1], c=y)\n",
        "plt.xlabel(\"Feature 1\")\n",
        "plt.ylabel(\"Feature 2\")\n",
        "plt.title(\"Scatter plot of dataset\")\n",
        "plt.show()"
      ],
      "metadata": {
        "colab": {
          "base_uri": "https://localhost:8080/",
          "height": 295
        },
        "id": "HIVg0SmrXgWp",
        "outputId": "24c8873d-18eb-4f02-e124-8667dc70c31b"
      },
      "execution_count": null,
      "outputs": [
        {
          "output_type": "display_data",
          "data": {
            "text/plain": [
              "<Figure size 432x288 with 1 Axes>"
            ],
            "image/png": "[encoded data removed]"
          },
          "metadata": {
            "needs_background": "light"
          }
        }
      ]
    },
    {
      "cell_type": "code",
      "source": [
        "# Split data to train and test on 80-20 ratio\n",
        "X_train, X_test, y_train, y_test = train_test_split(X, y, test_size=0.2, random_state=54)"
      ],
      "metadata": {
        "id": "4CXAm84HY5yJ"
      },
      "execution_count": null,
      "outputs": []
    },
    {
      "cell_type": "code",
      "source": [
        "# Printing splitted dataset\n",
        "print(\"X_train: \")\n",
        "print(X_train)\n",
        "print(\"X_test: \")\n",
        "print(X_test)\n",
        "print(\"y_train: \")\n",
        "print(y_train)\n",
        "print(\"y_test: \")\n",
        "print(y_test)"
      ],
      "metadata": {
        "colab": {
          "base_uri": "https://localhost:8080/"
        },
        "id": "PiQDBWxnZjzQ",
        "outputId": "7c89cc60-bf5c-4ba2-8f14-65e04e6f6be8"
      },
      "execution_count": null,
      "outputs": [
        {
          "output_type": "stream",
          "name": "stdout",
          "text": [
            "X_train\n",
            "[[-0.91878547 -2.54968061]\n",
            " [-5.97990054  0.95167118]\n",
            " [-0.9701922  -2.00182251]\n",
            " [-1.93716023 -3.00861002]\n",
            " [-2.49980611 -3.26439575]\n",
            " [-6.14193809  0.82822348]\n",
            " [-0.95455454 -1.58281197]\n",
            " [-8.23846572 -0.03756946]\n",
            " [-4.99601747  2.05380586]\n",
            " [-7.88523994  0.48146181]\n",
            " [-4.37935496 -0.13581043]\n",
            " [-1.47610334 -3.15667141]\n",
            " [-0.53332746 -2.12067997]\n",
            " [-2.63765496 -4.65746076]\n",
            " [-0.95490722 -3.71195279]\n",
            " [-0.83332233 -2.00748681]\n",
            " [-6.70671781 -0.10951465]\n",
            " [-0.89764008 -1.81135808]\n",
            " [-6.07123487 -0.22166895]\n",
            " [-7.90044794  1.74513839]\n",
            " [-8.28296618  1.16270724]\n",
            " [-1.26811416 -1.91844853]\n",
            " [-6.08955547  0.33376304]\n",
            " [-0.9717782  -3.62990083]\n",
            " [-1.69071586 -1.58019708]\n",
            " [-7.24749027 -0.77666223]\n",
            " [-1.9808446  -0.94300643]\n",
            " [-7.26849121  2.33749684]\n",
            " [-2.07682444 -3.1772371 ]\n",
            " [-6.33196977  1.00865361]\n",
            " [-1.26823612 -2.76522754]\n",
            " [-6.68504959  2.0901633 ]\n",
            " [-1.05180183 -1.89814555]\n",
            " [-1.02806747 -2.68400003]\n",
            " [-1.45113712 -2.2020938 ]\n",
            " [-1.52773415 -0.58840907]\n",
            " [-2.49660658 -2.71555659]\n",
            " [-4.42389136  0.26741609]\n",
            " [-2.13678539 -3.18590044]\n",
            " [-8.75453014  0.77648527]\n",
            " [-1.50922111 -2.71981966]\n",
            " [-3.06731921 -4.41062961]\n",
            " [-2.3772109  -0.22674248]\n",
            " [-5.58405804  0.42180579]\n",
            " [-4.60304237 -0.49027732]\n",
            " [-6.088757   -0.58303398]\n",
            " [-7.53009616 -0.17574348]\n",
            " [-0.98657843 -2.36427764]\n",
            " [-0.74318199 -3.24093349]\n",
            " [-3.13841382 -1.14068902]\n",
            " [-6.66403445  2.6539686 ]\n",
            " [-7.32746793  1.05667126]\n",
            " [-0.03241963 -1.37569891]\n",
            " [-5.41644094  1.31263502]\n",
            " [-2.58418139 -2.21062154]\n",
            " [-6.58928548  1.15130072]\n",
            " [-0.46109418 -4.28523189]\n",
            " [-1.69020916 -3.2094674 ]\n",
            " [-6.76049552  0.70244597]\n",
            " [-6.54453351 -1.62822114]\n",
            " [-6.93789253  0.68031623]\n",
            " [-6.91598756 -0.76503466]\n",
            " [-1.50050415 -2.62460295]\n",
            " [-5.59579465  1.4946774 ]\n",
            " [-7.43414631  0.24230254]\n",
            " [-4.88246349  1.00193027]\n",
            " [-6.47917425  0.19907537]\n",
            " [-4.99351845  0.40010269]\n",
            " [-2.36571678 -3.68923744]\n",
            " [-6.85650724 -0.83209491]\n",
            " [-1.97039472 -3.09640383]\n",
            " [-3.39138591 -2.96767053]\n",
            " [-6.66680886 -0.12748879]\n",
            " [-6.70923826  2.73768693]\n",
            " [-2.92037016 -1.42004638]\n",
            " [-5.13770577 -0.92643949]\n",
            " [-6.80762538  0.83313496]\n",
            " [-1.71903075 -1.39401259]\n",
            " [-2.19372718 -3.20881509]\n",
            " [-1.78217312 -3.21272679]]\n",
            "X_test\n",
            "[[-8.36083589 -0.01330003]\n",
            " [-0.1237129  -1.88122362]\n",
            " [-2.28507162 -3.43849233]\n",
            " [-2.75317518 -3.55476089]\n",
            " [-1.73256015 -4.19621655]\n",
            " [-5.37595     0.24650008]\n",
            " [-6.79551189 -0.2119648 ]\n",
            " [-3.15990336 -2.96688797]\n",
            " [-5.36318432  1.59479747]\n",
            " [-2.24632197 -3.13134926]\n",
            " [-7.57167067  1.38696783]\n",
            " [-5.99622288  1.80722066]\n",
            " [-6.4562476   0.72362269]\n",
            " [-2.00240992 -4.36899237]\n",
            " [-2.28061154 -4.22202463]\n",
            " [-6.94034251  1.08253144]\n",
            " [-1.01331309 -3.41267112]\n",
            " [-5.72637828  0.09017606]\n",
            " [-6.27372102 -0.71958585]\n",
            " [-6.51237388  1.22266465]]\n",
            "y_train\n",
            "[0 1 0 0 0 1 0 1 1 1 1 0 0 0 0 0 1 0 1 1 1 0 1 0 0 1 0 1 0 1 0 1 0 0 0 0 0\n",
            " 1 0 1 0 0 0 1 1 1 1 0 0 0 1 1 0 1 0 1 0 0 1 1 1 1 0 1 1 1 1 1 0 1 0 0 1 1\n",
            " 0 1 1 0 0 0]\n",
            "y_test\n",
            "[1 0 0 0 0 1 1 0 1 0 1 1 1 0 0 1 0 1 1 1]\n"
          ]
        }
      ]
    },
    {
      "cell_type": "code",
      "source": [
        "# Train classifier\n",
        "clf = svm.SVC(kernel='linear')\n",
        "clf.fit(X_train, y_train)\n",
        "\n",
        "def plot_decision_function(X_train, y_train, X_test, y_test, clf):\n",
        "    xx, yy = np.meshgrid(np.linspace(-10, 10, 100), np.linspace(-10, 10, 100))\n",
        "    xy = np.column_stack([xx.ravel(), yy.ravel()])\n",
        "\n",
        "    Z = clf.decision_function(xy).reshape(xx.shape)\n",
        "    plt.contourf(xx, yy, Z, levels=[-1, 0, 1], alpha=0.4)\n",
        "\n",
        "    plt.scatter(X_train[:, 0], X_train[:, 1], c=y_train, alpha=0.8)\n",
        "    plt.scatter(X_test[:, 0], X_test[:, 1], c=y_test, marker='s', alpha=0.8)\n",
        "    \n",
        "    plt.xlabel(\"Feature 1\")\n",
        "    plt.ylabel(\"Feature 2\")\n",
        "    plt.title(\"Decision function and data points\")\n",
        "    plt.show()"
      ],
      "metadata": {
        "id": "WD9Bp_0BaevR"
      },
      "execution_count": null,
      "outputs": []
    },
    {
      "cell_type": "code",
      "source": [
        "## Plot decision function on training and test data\n",
        "plot_decision_function(X_train, y_train, X_test, y_test,clf)"
      ],
      "metadata": {
        "id": "s9589rhCaviA"
      },
      "execution_count": null,
      "outputs": []
    },
    {
      "cell_type": "code",
      "source": [
        "# Make predictions on unseen test data\n",
        "clf_predictions = clf.predict(X_test)\n",
        "clf_predictions"
      ],
      "metadata": {
        "colab": {
          "base_uri": "https://localhost:8080/"
        },
        "id": "gGYDIbrhb1j3",
        "outputId": "7db28d2a-f0e2-4a1e-fcb6-369776d39118"
      },
      "execution_count": null,
      "outputs": [
        {
          "output_type": "execute_result",
          "data": {
            "text/plain": [
              "array([1, 0, 0, 0, 0, 1, 1, 0, 1, 0, 1, 1, 1, 0, 0, 1, 0, 1, 1, 1])"
            ]
          },
          "metadata": {},
          "execution_count": 21
        }
      ]
    },
    {
      "cell_type": "code",
      "source": [
        "print(\"Accuracy: {}%\".format(clf.score(X_test, y_test) * 100))"
      ],
      "metadata": {
        "colab": {
          "base_uri": "https://localhost:8080/"
        },
        "id": "niDW3F6qf5P_",
        "outputId": "7104ddf3-05eb-4f9f-cd29-b8e8d3195820"
      },
      "execution_count": null,
      "outputs": [
        {
          "output_type": "stream",
          "name": "stdout",
          "text": [
            "Accuracy: 100.0%\n"
          ]
        }
      ]
    },
    {
      "cell_type": "code",
      "source": [
        "def make_meshgrid(x, y, h=.02):\n",
        "  x_min, x_max = x.min() - 1, x.max() + 1\n",
        "  y_min, y_max = y.min() - 1, y.max() + 1\n",
        "  xx, yy = np.meshgrid(np.arange(x_min, x_max, h), np.arange(y_min, y_max, h))\n",
        "  return xx, yy"
      ],
      "metadata": {
        "id": "_yeQ1dTcf-Cf"
      },
      "execution_count": null,
      "outputs": []
    },
    {
      "cell_type": "code",
      "source": [
        "def plot_contours(ax, clf, xx, yy, **params):\n",
        "  Z = clf.predict(np.c_[xx.ravel(), yy.ravel()])\n",
        "  Z = Z.reshape(xx.shape)\n",
        "  out = ax.contourf(xx, yy, Z, **params)\n",
        "  return out"
      ],
      "metadata": {
        "id": "pANYZtleiSh4"
      },
      "execution_count": null,
      "outputs": []
    },
    {
      "cell_type": "code",
      "source": [
        "fig, ax = plt.subplots()\n",
        "# title for the plots\n",
        "title = ('Decision surface of linear SVC ')\n",
        "# Set-up grid for plotting.\n",
        "X0, X1 = X[:, 0], X[:, 1]\n",
        "xx, yy = make_meshgrid(X0, X1)\n",
        "plot_contours(ax, clf, xx, yy, cmap=plt.cm.coolwarm, alpha=0.8)\n",
        "\n",
        "ax.scatter(X0, X1, c=y, cmap=plt.cm.coolwarm, s=20,edgecolors='k')\n",
        "ax.set_ylabel('y label here')\n",
        "ax.set_xlabel('x label here')\n",
        "ax.set_xticks(())\n",
        "ax.set_yticks(())\n",
        "ax.set_title(title)\n",
        "ax.legend()\n",
        "plt.show()"
      ],
      "metadata": {
        "colab": {
          "base_uri": "https://localhost:8080/",
          "height": 319
        },
        "id": "To4h5_fwiVWf",
        "outputId": "30bc6584-08ec-425a-ca00-d3c0d8838b1f"
      },
      "execution_count": null,
      "outputs": [
        {
          "output_type": "stream",
          "name": "stderr",
          "text": [
            "WARNING:matplotlib.legend:No artists with labels found to put in legend.  Note that artists whose label start with an underscore are ignored when legend() is called with no argument.\n"
          ]
        },
        {
          "output_type": "display_data",
          "data": {
            "text/plain": [
              "<Figure size 432x288 with 1 Axes>"
            ],
            "image/png": "[encoded data removed]"
          },
          "metadata": {}
        }
      ]
    },
    {
      "cell_type": "markdown",
      "source": [
        "# Part B : Breast Cancer Prediction Example"
      ],
      "metadata": {
        "id": "koHWK8PvlKLP"
      }
    },
    {
      "cell_type": "code",
      "source": [
        "#Import scikit-learn dataset library\n",
        "from sklearn import datasets\n",
        "\n",
        "#Load dataset\n",
        "cancer = datasets.load_breast_cancer()"
      ],
      "metadata": {
        "id": "CwhgwCQEi623"
      },
      "execution_count": null,
      "outputs": []
    },
    {
      "cell_type": "code",
      "source": [
        "# Print the names of the 13 features\n",
        "print(\"Features: \", cancer.feature_names)\n",
        "\n",
        "# Print the label type of cancer ('malignant' 'benign')\n",
        "print(\"Labels: \", cancer.target_names)"
      ],
      "metadata": {
        "colab": {
          "base_uri": "https://localhost:8080/"
        },
        "id": "4q8mxXvzlVFP",
        "outputId": "fea8b9b7-1dd1-4f96-b1ac-789bc4cff612"
      },
      "execution_count": null,
      "outputs": [
        {
          "output_type": "stream",
          "name": "stdout",
          "text": [
            "Features:  ['mean radius' 'mean texture' 'mean perimeter' 'mean area'\n",
            " 'mean smoothness' 'mean compactness' 'mean concavity'\n",
            " 'mean concave points' 'mean symmetry' 'mean fractal dimension'\n",
            " 'radius error' 'texture error' 'perimeter error' 'area error'\n",
            " 'smoothness error' 'compactness error' 'concavity error'\n",
            " 'concave points error' 'symmetry error' 'fractal dimension error'\n",
            " 'worst radius' 'worst texture' 'worst perimeter' 'worst area'\n",
            " 'worst smoothness' 'worst compactness' 'worst concavity'\n",
            " 'worst concave points' 'worst symmetry' 'worst fractal dimension']\n",
            "Labels:  ['malignant' 'benign']\n"
          ]
        }
      ]
    },
    {
      "cell_type": "code",
      "source": [
        "# Print the shape of the feature data\n",
        "print(\"Shape of feature data: \", cancer.data.shape)\n"
      ],
      "metadata": {
        "colab": {
          "base_uri": "https://localhost:8080/"
        },
        "id": "AL4h-TCwlpBm",
        "outputId": "4efdc9a1-8b8f-4b9c-d968-4ae650ceb45a"
      },
      "execution_count": null,
      "outputs": [
        {
          "output_type": "stream",
          "name": "stdout",
          "text": [
            "Shape of feature data:  (569, 30)\n"
          ]
        }
      ]
    },
    {
      "cell_type": "code",
      "source": [
        "# Print the cancer labels (0:malignant, 1:benign)\n",
        "print(\"Cancer labels: \", cancer.target)"
      ],
      "metadata": {
        "colab": {
          "base_uri": "https://localhost:8080/"
        },
        "id": "K5W0NtITmz1v",
        "outputId": "82ea70fa-b87b-4188-ab05-6baebf87595b"
      },
      "execution_count": null,
      "outputs": [
        {
          "output_type": "stream",
          "name": "stdout",
          "text": [
            "Cancer labels:  [0 0 0 0 0 0 0 0 0 0 0 0 0 0 0 0 0 0 0 1 1 1 0 0 0 0 0 0 0 0 0 0 0 0 0 0 0\n",
            " 1 0 0 0 0 0 0 0 0 1 0 1 1 1 1 1 0 0 1 0 0 1 1 1 1 0 1 0 0 1 1 1 1 0 1 0 0\n",
            " 1 0 1 0 0 1 1 1 0 0 1 0 0 0 1 1 1 0 1 1 0 0 1 1 1 0 0 1 1 1 1 0 1 1 0 1 1\n",
            " 1 1 1 1 1 1 0 0 0 1 0 0 1 1 1 0 0 1 0 1 0 0 1 0 0 1 1 0 1 1 0 1 1 1 1 0 1\n",
            " 1 1 1 1 1 1 1 1 0 1 1 1 1 0 0 1 0 1 1 0 0 1 1 0 0 1 1 1 1 0 1 1 0 0 0 1 0\n",
            " 1 0 1 1 1 0 1 1 0 0 1 0 0 0 0 1 0 0 0 1 0 1 0 1 1 0 1 0 0 0 0 1 1 0 0 1 1\n",
            " 1 0 1 1 1 1 1 0 0 1 1 0 1 1 0 0 1 0 1 1 1 1 0 1 1 1 1 1 0 1 0 0 0 0 0 0 0\n",
            " 0 0 0 0 0 0 0 1 1 1 1 1 1 0 1 0 1 1 0 1 1 0 1 0 0 1 1 1 1 1 1 1 1 1 1 1 1\n",
            " 1 0 1 1 0 1 0 1 1 1 1 1 1 1 1 1 1 1 1 1 1 0 1 1 1 0 1 0 1 1 1 1 0 0 0 1 1\n",
            " 1 1 0 1 0 1 0 1 1 1 0 1 1 1 1 1 1 1 0 0 0 1 1 1 1 1 1 1 1 1 1 1 0 0 1 0 0\n",
            " 0 1 0 0 1 1 1 1 1 0 1 1 1 1 1 0 1 1 1 0 1 1 0 0 1 1 1 1 1 1 0 1 1 1 1 1 1\n",
            " 1 0 1 1 1 1 1 0 1 1 0 1 1 1 1 1 1 1 1 1 1 1 1 0 1 0 0 1 0 1 1 1 1 1 0 1 1\n",
            " 0 1 0 1 1 0 1 0 1 1 1 1 1 1 1 1 0 0 1 1 1 1 1 1 0 1 1 1 1 1 1 1 1 1 1 0 1\n",
            " 1 1 1 1 1 1 0 1 0 1 1 0 1 1 1 1 1 0 0 1 0 1 0 1 1 1 1 1 0 1 1 0 1 0 1 0 0\n",
            " 1 1 1 0 1 1 1 1 1 1 1 1 1 1 1 0 1 0 0 1 1 1 1 1 1 1 1 1 1 1 1 1 1 1 1 1 1\n",
            " 1 1 1 1 1 1 1 0 0 0 0 0 0 1]\n"
          ]
        }
      ]
    },
    {
      "cell_type": "code",
      "source": [
        "# Plotting scatters\n",
        "plt.scatter(cancer.data[:, 0], cancer.data[:, 1], c=cancer.target)\n",
        "plt.xlabel(\"First feature\")\n",
        "plt.ylabel(\"Second feature\")\n",
        "plt.show()\n"
      ],
      "metadata": {
        "colab": {
          "base_uri": "https://localhost:8080/",
          "height": 279
        },
        "id": "a5S46JvAm2jP",
        "outputId": "2f33a572-a9d5-4111-9ab3-7a4a808a613c"
      },
      "execution_count": null,
      "outputs": [
        {
          "output_type": "display_data",
          "data": {
            "text/plain": [
              "<Figure size 432x288 with 1 Axes>"
            ],
            "image/png": "[encoded data removed]"
          },
          "metadata": {
            "needs_background": "light"
          }
        }
      ]
    },
    {
      "cell_type": "code",
      "source": [
        "from sklearn import svm"
      ],
      "metadata": {
        "id": "Z3GowlaPm5n_"
      },
      "execution_count": null,
      "outputs": []
    },
    {
      "cell_type": "code",
      "source": [
        "# Split the dataset into training and testing sets\n",
        "X_train, X_test, y_train, y_test = train_test_split(cancer.data, cancer.target, test_size=0.2)\n",
        "\n",
        "# Create a SVM classifier with a linear kernel\n",
        "clf = svm.SVC(kernel='linear')\n",
        "\n",
        "# Train the model using the training sets\n",
        "clf.fit(X_train, y_train)\n",
        "\n",
        "# Predict the response for test dataset\n",
        "y_pred = clf.predict(X_test)"
      ],
      "metadata": {
        "id": "ktDAtUqmnTJm"
      },
      "execution_count": null,
      "outputs": []
    },
    {
      "cell_type": "code",
      "source": [
        "#Import scikit-learn metrics module for accuracy calculation\n",
        "from sklearn import metrics\n",
        "\n",
        "# Model Accuracy: how often is the classifier correct?\n",
        "print(\"Accuracy:\",metrics.accuracy_score(y_test, y_pred))"
      ],
      "metadata": {
        "colab": {
          "base_uri": "https://localhost:8080/"
        },
        "id": "BLBhM8G-ouM-",
        "outputId": "c0e7aea2-2488-4ff4-dd57-be12de3f6aba"
      },
      "execution_count": null,
      "outputs": [
        {
          "output_type": "stream",
          "name": "stdout",
          "text": [
            "Accuracy: 0.956140350877193\n"
          ]
        }
      ]
    },
    {
      "cell_type": "code",
      "source": [
        "# Model Precision: what percentage of positive tuples are labeled as such?\n",
        "print(\"Precision:\",metrics.precision_score(y_test, y_pred))\n",
        "\n",
        "# Model Recall: what percentage of positive tuples are labelled as such?\n",
        "print(\"Recall:\",metrics.recall_score(y_test, y_pred))"
      ],
      "metadata": {
        "colab": {
          "base_uri": "https://localhost:8080/"
        },
        "id": "Xw0R5pqjo6ym",
        "outputId": "bfc775b4-f72d-4c56-a69c-3773f45d808b"
      },
      "execution_count": null,
      "outputs": [
        {
          "output_type": "stream",
          "name": "stdout",
          "text": [
            "Precision: 0.9571428571428572\n",
            "Recall: 0.9710144927536232\n"
          ]
        }
      ]
    },
    {
      "cell_type": "markdown",
      "source": [
        "# Exercise"
      ],
      "metadata": {
        "id": "lKjLkTCtq9V2"
      }
    },
    {
      "cell_type": "code",
      "source": [],
      "metadata": {
        "id": "7pptCrmItCAm"
      },
      "execution_count": null,
      "outputs": []
    }
  ]
}