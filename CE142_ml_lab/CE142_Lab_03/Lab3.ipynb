{
 "cells": [
  {
   "cell_type": "markdown",
   "metadata": {
    "id": "l6_ivo_3alby"
   },
   "source": [
    "1_NB_Classifier_Weather"
   ]
  },
  {
   "cell_type": "code",
   "execution_count": null,
   "metadata": {
    "id": "ri0mK3K5aqqL"
   },
   "outputs": [],
   "source": [
    "from sklearn import preprocessing\n",
    "from sklearn.naive_bayes import GaussianNB, MultinomialNB"
   ]
  },
  {
   "cell_type": "code",
   "execution_count": null,
   "metadata": {
    "id": "u2F_P0_UawpR"
   },
   "outputs": [],
   "source": [
    "weather = ['Sunny', 'Sunny', 'Overcast', 'Rainy', 'Rainy','Rainy', 'Overcast',\n",
    "'Sunny', 'Sunny', 'Rainy', 'Sunny', 'Overcast', 'Overcast', 'Rainy']\n",
    "\n",
    "temp = ['Hot','Hot','Hot','Mild','Cool','Cool','Cool','Mild',\n",
    "'Cool','Mild','Mild','Mild','Hot','Mild']\n",
    "\n",
    "play=['No','No','Yes','Yes','Yes','No','Yes','No','Yes',\n",
    "'Yes','Yes','Yes','Yes','No']"
   ]
  },
  {
   "cell_type": "code",
   "execution_count": null,
   "metadata": {
    "colab": {
     "base_uri": "https://localhost:8080/"
    },
    "id": "OuQzAnqLa3sY",
    "outputId": "85bdeee0-7b98-401e-800f-d00cece2d885"
   },
   "outputs": [
    {
     "name": "stdout",
     "output_type": "stream",
     "text": [
      "Weather : [2 2 0 1 1 1 0 2 2 1 2 0 0 1]\n",
      "Temp : [1 1 1 2 0 0 0 2 0 2 2 2 1 2]\n",
      "Play : [0 0 1 1 1 0 1 0 1 1 1 1 1 0]\n"
     ]
    }
   ],
   "source": [
    "#create labelEncoder\n",
    "le = preprocessing.LabelEncoder()\n",
    "\n",
    "#converting string labels into numbers\n",
    "weather_encoded = le.fit_transform(weather)\n",
    "print(\"Weather :\",weather_encoded)\n",
    "\n",
    "temp_encoded = le.fit_transform(temp)\n",
    "print(\"Temp :\",temp_encoded)\n",
    "\n",
    "label = le.fit_transform(play)\n",
    "print(\"Play :\",label)"
   ]
  },
  {
   "cell_type": "code",
   "execution_count": null,
   "metadata": {
    "colab": {
     "base_uri": "https://localhost:8080/"
    },
    "id": "K-70F4mWcace",
    "outputId": "a91b3c93-0818-455a-e6aa-fbc54ffccdc9"
   },
   "outputs": [
    {
     "name": "stdout",
     "output_type": "stream",
     "text": [
      "Features : ((2, 1), (2, 1), (0, 1), (1, 2), (1, 0), (1, 0), (0, 0), (2, 2), (2, 0), (1, 2), (2, 2), (0, 2), (0, 1), (1, 2))\n"
     ]
    }
   ],
   "source": [
    "#combining weather and temp into single listof tuple\n",
    "features = tuple(zip(weather_encoded,temp_encoded))\n",
    "print(\"Features :\",features)"
   ]
  },
  {
   "cell_type": "code",
   "execution_count": null,
   "metadata": {
    "colab": {
     "base_uri": "https://localhost:8080/"
    },
    "id": "-Va4GSewcyPE",
    "outputId": "fa2256a1-28b6-432e-d7b9-ce289115ab4f"
   },
   "outputs": [
    {
     "data": {
      "text/plain": [
       "MultinomialNB()"
      ]
     },
     "execution_count": 33,
     "metadata": {},
     "output_type": "execute_result"
    }
   ],
   "source": [
    "#create classifier\n",
    "model = MultinomialNB()\n",
    "\n",
    "#train the model using the training sets\n",
    "model.fit(features,label)"
   ]
  },
  {
   "cell_type": "code",
   "execution_count": null,
   "metadata": {
    "colab": {
     "base_uri": "https://localhost:8080/"
    },
    "id": "Uetto93AdAU9",
    "outputId": "e44fba27-652c-4e5e-cb0f-9bdc5bf0f1fd"
   },
   "outputs": [
    {
     "name": "stdout",
     "output_type": "stream",
     "text": [
      "Predicted Value: [1]\n",
      "Predicted Value: [1]\n"
     ]
    }
   ],
   "source": [
    "#predict output\n",
    "predicted = model.predict([[0,1]]) #0:overcast,1:Hot\n",
    "print(\"Predicted Value:\",predicted)\n",
    "\n",
    "predicted= model.predict([[2,2]]) #2:Sunny, 2:Mild\n",
    "print(\"Predicted Value:\", predicted)"
   ]
  },
  {
   "cell_type": "markdown",
   "metadata": {
    "id": "wYJbE1vIeAZM"
   },
   "source": [
    "2_NB_Classifier_Iris"
   ]
  },
  {
   "cell_type": "code",
   "execution_count": null,
   "metadata": {
    "id": "XqeDjA0UeQji"
   },
   "outputs": [],
   "source": [
    "import numpy as np\n",
    "from sklearn import datasets\n",
    "\n",
    "#Load dataset\n",
    "iris = datasets.load_iris()"
   ]
  },
  {
   "cell_type": "code",
   "execution_count": null,
   "metadata": {
    "colab": {
     "base_uri": "https://localhost:8080/"
    },
    "id": "svQ5EGZfejlj",
    "outputId": "2611e01e-9357-46af-d8db-459a8bc1c2c4"
   },
   "outputs": [
    {
     "name": "stdout",
     "output_type": "stream",
     "text": [
      "Features : ['sepal length (cm)', 'sepal width (cm)', 'petal length (cm)', 'petal width (cm)']\n",
      "\n",
      "Labels : ['setosa' 'versicolor' 'virginica']\n",
      "\n",
      "Data Shape:  (150, 4)\n",
      "\n",
      "Data:  [[5.1 3.5 1.4 0.2]\n",
      " [4.9 3.  1.4 0.2]\n",
      " [4.7 3.2 1.3 0.2]\n",
      " [4.6 3.1 1.5 0.2]\n",
      " [5.  3.6 1.4 0.2]\n",
      " [5.4 3.9 1.7 0.4]\n",
      " [4.6 3.4 1.4 0.3]\n",
      " [5.  3.4 1.5 0.2]\n",
      " [4.4 2.9 1.4 0.2]\n",
      " [4.9 3.1 1.5 0.1]\n",
      " [5.4 3.7 1.5 0.2]\n",
      " [4.8 3.4 1.6 0.2]\n",
      " [4.8 3.  1.4 0.1]\n",
      " [4.3 3.  1.1 0.1]\n",
      " [5.8 4.  1.2 0.2]\n",
      " [5.7 4.4 1.5 0.4]\n",
      " [5.4 3.9 1.3 0.4]\n",
      " [5.1 3.5 1.4 0.3]\n",
      " [5.7 3.8 1.7 0.3]\n",
      " [5.1 3.8 1.5 0.3]\n",
      " [5.4 3.4 1.7 0.2]\n",
      " [5.1 3.7 1.5 0.4]\n",
      " [4.6 3.6 1.  0.2]\n",
      " [5.1 3.3 1.7 0.5]\n",
      " [4.8 3.4 1.9 0.2]\n",
      " [5.  3.  1.6 0.2]\n",
      " [5.  3.4 1.6 0.4]\n",
      " [5.2 3.5 1.5 0.2]\n",
      " [5.2 3.4 1.4 0.2]\n",
      " [4.7 3.2 1.6 0.2]\n",
      " [4.8 3.1 1.6 0.2]\n",
      " [5.4 3.4 1.5 0.4]\n",
      " [5.2 4.1 1.5 0.1]\n",
      " [5.5 4.2 1.4 0.2]\n",
      " [4.9 3.1 1.5 0.2]\n",
      " [5.  3.2 1.2 0.2]\n",
      " [5.5 3.5 1.3 0.2]\n",
      " [4.9 3.6 1.4 0.1]\n",
      " [4.4 3.  1.3 0.2]\n",
      " [5.1 3.4 1.5 0.2]\n",
      " [5.  3.5 1.3 0.3]\n",
      " [4.5 2.3 1.3 0.3]\n",
      " [4.4 3.2 1.3 0.2]\n",
      " [5.  3.5 1.6 0.6]\n",
      " [5.1 3.8 1.9 0.4]\n",
      " [4.8 3.  1.4 0.3]\n",
      " [5.1 3.8 1.6 0.2]\n",
      " [4.6 3.2 1.4 0.2]\n",
      " [5.3 3.7 1.5 0.2]\n",
      " [5.  3.3 1.4 0.2]\n",
      " [7.  3.2 4.7 1.4]\n",
      " [6.4 3.2 4.5 1.5]\n",
      " [6.9 3.1 4.9 1.5]\n",
      " [5.5 2.3 4.  1.3]\n",
      " [6.5 2.8 4.6 1.5]\n",
      " [5.7 2.8 4.5 1.3]\n",
      " [6.3 3.3 4.7 1.6]\n",
      " [4.9 2.4 3.3 1. ]\n",
      " [6.6 2.9 4.6 1.3]\n",
      " [5.2 2.7 3.9 1.4]\n",
      " [5.  2.  3.5 1. ]\n",
      " [5.9 3.  4.2 1.5]\n",
      " [6.  2.2 4.  1. ]\n",
      " [6.1 2.9 4.7 1.4]\n",
      " [5.6 2.9 3.6 1.3]\n",
      " [6.7 3.1 4.4 1.4]\n",
      " [5.6 3.  4.5 1.5]\n",
      " [5.8 2.7 4.1 1. ]\n",
      " [6.2 2.2 4.5 1.5]\n",
      " [5.6 2.5 3.9 1.1]\n",
      " [5.9 3.2 4.8 1.8]\n",
      " [6.1 2.8 4.  1.3]\n",
      " [6.3 2.5 4.9 1.5]\n",
      " [6.1 2.8 4.7 1.2]\n",
      " [6.4 2.9 4.3 1.3]\n",
      " [6.6 3.  4.4 1.4]\n",
      " [6.8 2.8 4.8 1.4]\n",
      " [6.7 3.  5.  1.7]\n",
      " [6.  2.9 4.5 1.5]\n",
      " [5.7 2.6 3.5 1. ]\n",
      " [5.5 2.4 3.8 1.1]\n",
      " [5.5 2.4 3.7 1. ]\n",
      " [5.8 2.7 3.9 1.2]\n",
      " [6.  2.7 5.1 1.6]\n",
      " [5.4 3.  4.5 1.5]\n",
      " [6.  3.4 4.5 1.6]\n",
      " [6.7 3.1 4.7 1.5]\n",
      " [6.3 2.3 4.4 1.3]\n",
      " [5.6 3.  4.1 1.3]\n",
      " [5.5 2.5 4.  1.3]\n",
      " [5.5 2.6 4.4 1.2]\n",
      " [6.1 3.  4.6 1.4]\n",
      " [5.8 2.6 4.  1.2]\n",
      " [5.  2.3 3.3 1. ]\n",
      " [5.6 2.7 4.2 1.3]\n",
      " [5.7 3.  4.2 1.2]\n",
      " [5.7 2.9 4.2 1.3]\n",
      " [6.2 2.9 4.3 1.3]\n",
      " [5.1 2.5 3.  1.1]\n",
      " [5.7 2.8 4.1 1.3]\n",
      " [6.3 3.3 6.  2.5]\n",
      " [5.8 2.7 5.1 1.9]\n",
      " [7.1 3.  5.9 2.1]\n",
      " [6.3 2.9 5.6 1.8]\n",
      " [6.5 3.  5.8 2.2]\n",
      " [7.6 3.  6.6 2.1]\n",
      " [4.9 2.5 4.5 1.7]\n",
      " [7.3 2.9 6.3 1.8]\n",
      " [6.7 2.5 5.8 1.8]\n",
      " [7.2 3.6 6.1 2.5]\n",
      " [6.5 3.2 5.1 2. ]\n",
      " [6.4 2.7 5.3 1.9]\n",
      " [6.8 3.  5.5 2.1]\n",
      " [5.7 2.5 5.  2. ]\n",
      " [5.8 2.8 5.1 2.4]\n",
      " [6.4 3.2 5.3 2.3]\n",
      " [6.5 3.  5.5 1.8]\n",
      " [7.7 3.8 6.7 2.2]\n",
      " [7.7 2.6 6.9 2.3]\n",
      " [6.  2.2 5.  1.5]\n",
      " [6.9 3.2 5.7 2.3]\n",
      " [5.6 2.8 4.9 2. ]\n",
      " [7.7 2.8 6.7 2. ]\n",
      " [6.3 2.7 4.9 1.8]\n",
      " [6.7 3.3 5.7 2.1]\n",
      " [7.2 3.2 6.  1.8]\n",
      " [6.2 2.8 4.8 1.8]\n",
      " [6.1 3.  4.9 1.8]\n",
      " [6.4 2.8 5.6 2.1]\n",
      " [7.2 3.  5.8 1.6]\n",
      " [7.4 2.8 6.1 1.9]\n",
      " [7.9 3.8 6.4 2. ]\n",
      " [6.4 2.8 5.6 2.2]\n",
      " [6.3 2.8 5.1 1.5]\n",
      " [6.1 2.6 5.6 1.4]\n",
      " [7.7 3.  6.1 2.3]\n",
      " [6.3 3.4 5.6 2.4]\n",
      " [6.4 3.1 5.5 1.8]\n",
      " [6.  3.  4.8 1.8]\n",
      " [6.9 3.1 5.4 2.1]\n",
      " [6.7 3.1 5.6 2.4]\n",
      " [6.9 3.1 5.1 2.3]\n",
      " [5.8 2.7 5.1 1.9]\n",
      " [6.8 3.2 5.9 2.3]\n",
      " [6.7 3.3 5.7 2.5]\n",
      " [6.7 3.  5.2 2.3]\n",
      " [6.3 2.5 5.  1.9]\n",
      " [6.5 3.  5.2 2. ]\n",
      " [6.2 3.4 5.4 2.3]\n",
      " [5.9 3.  5.1 1.8]]\n",
      "\n",
      "Target Shape:  (150,)\n",
      "\n",
      "Target:  [0 0 0 0 0 0 0 0 0 0 0 0 0 0 0 0 0 0 0 0 0 0 0 0 0 0 0 0 0 0 0 0 0 0 0 0 0\n",
      " 0 0 0 0 0 0 0 0 0 0 0 0 0 1 1 1 1 1 1 1 1 1 1 1 1 1 1 1 1 1 1 1 1 1 1 1 1\n",
      " 1 1 1 1 1 1 1 1 1 1 1 1 1 1 1 1 1 1 1 1 1 1 1 1 1 1 2 2 2 2 2 2 2 2 2 2 2\n",
      " 2 2 2 2 2 2 2 2 2 2 2 2 2 2 2 2 2 2 2 2 2 2 2 2 2 2 2 2 2 2 2 2 2 2 2 2 2\n",
      " 2 2]\n",
      "\n",
      "Data Type:  <class 'numpy.ndarray'>\n",
      "\n",
      "New Data Shape:  (100, 4)\n",
      "\n",
      "New Target Shape:  (100,)\n"
     ]
    }
   ],
   "source": [
    "print(\"Features :\",iris.feature_names)\n",
    "print(\"\\nLabels :\",iris.target_names)\n",
    "print(\"\\nData Shape: \",iris.data.shape)\n",
    "print(\"\\nData: \",iris.data)\n",
    "print(\"\\nTarget Shape: \",iris.target.shape)\n",
    "print(\"\\nTarget: \",iris.target)\n",
    "print(\"\\nData Type: \",type(iris.data))\n",
    "\n",
    "newdata = iris.data[50:,:]\n",
    "newtarget = iris.target[50:]\n",
    "\n",
    "print(\"\\nNew Data Shape: \",newdata.shape)\n",
    "print(\"\\nNew Target Shape: \",newtarget.shape)"
   ]
  },
  {
   "cell_type": "code",
   "execution_count": null,
   "metadata": {
    "id": "Bh1XqpJRgKw1"
   },
   "outputs": [],
   "source": [
    "from sklearn.model_selection import train_test_split\n",
    "\n",
    "data_train,data_test,target_train,target_test = train_test_split(newdata,newtarget,test_size=0.30,random_state=4)"
   ]
  },
  {
   "cell_type": "code",
   "execution_count": null,
   "metadata": {
    "id": "UaMdDSrFgovt"
   },
   "outputs": [],
   "source": [
    "gnb = GaussianNB()\n",
    "gnb.fit(data_train,target_train)\n",
    "target_pred = gnb.predict(data_test)"
   ]
  },
  {
   "cell_type": "code",
   "execution_count": null,
   "metadata": {
    "colab": {
     "base_uri": "https://localhost:8080/"
    },
    "id": "UWyjd9rng9Ph",
    "outputId": "1cc4ead6-91fe-44d8-8181-dee15002324b"
   },
   "outputs": [
    {
     "name": "stdout",
     "output_type": "stream",
     "text": [
      "Accuracy:  0.9333333333333333\n"
     ]
    }
   ],
   "source": [
    "from sklearn import metrics\n",
    "print(\"Accuracy: \",metrics.accuracy_score(target_test,target_pred))"
   ]
  },
  {
   "cell_type": "code",
   "execution_count": null,
   "metadata": {
    "colab": {
     "base_uri": "https://localhost:8080/"
    },
    "id": "aUpXpemrhLdW",
    "outputId": "f1a612e3-1984-4391-a807-9b25f268ae1c"
   },
   "outputs": [
    {
     "data": {
      "text/plain": [
       "array([[15,  2],\n",
       "       [ 0, 13]])"
      ]
     },
     "execution_count": 27,
     "metadata": {},
     "output_type": "execute_result"
    }
   ],
   "source": [
    "from sklearn.metrics import confusion_matrix\n",
    "confusion_matrix(target_test,target_pred)"
   ]
  },
  {
   "cell_type": "code",
   "execution_count": null,
   "metadata": {
    "colab": {
     "base_uri": "https://localhost:8080/"
    },
    "id": "jsiA-ffShZVC",
    "outputId": "e1ed8756-f08d-458b-ca22-ec62953dd063"
   },
   "outputs": [
    {
     "name": "stdout",
     "output_type": "stream",
     "text": [
      "pricision: 1.0\n",
      "recall: 0.8823529411764706\n"
     ]
    }
   ],
   "source": [
    "from sklearn.metrics import precision_score,recall_score\n",
    "precision = precision_score(target_test,target_pred)\n",
    "print('pricision: {}'.format(precision))\n",
    "recall = recall_score(target_test,target_pred)\n",
    "print('recall: {}'.format(recall))"
   ]
  },
  {
   "cell_type": "markdown",
   "metadata": {
    "id": "xduW21wciv5I"
   },
   "source": [
    "3_NB_Classifier_Iris"
   ]
  },
  {
   "cell_type": "code",
   "execution_count": null,
   "metadata": {
    "id": "BPY4QoXqmEBz"
   },
   "outputs": [],
   "source": []
  },
  {
   "cell_type": "code",
   "execution_count": null,
   "metadata": {
    "colab": {
     "base_uri": "https://localhost:8080/"
    },
    "id": "oCrofq5LkWc_",
    "outputId": "3874e904-aa78-4c44-aa0d-054a10bb73ae"
   },
   "outputs": [
    {
     "name": "stdout",
     "output_type": "stream",
     "text": [
      "Mounted at /content/drive\n",
      "   Outlook Temp Humidity Wind Play\n",
      "0        R    H   Normal    F    N\n",
      "1        R    H     High    T    N\n",
      "2        O    H   Normal    F    Y\n",
      "3        S    M   Normal    F    Y\n",
      "4        S    C   Normal    F    Y\n",
      "5        S    C      Low    T    N\n",
      "6        O    C   Normal    T    Y\n",
      "7        R    M   Normal    F    N\n",
      "8        R    C      Low    F    Y\n",
      "9        S    M     High    F    Y\n",
      "10       R    M     High    T    Y\n",
      "11       O    M      Low    T    Y\n",
      "12       O    H   Normal    F    Y\n",
      "13       S    M   Normal    T    N\n"
     ]
    }
   ],
   "source": [
    "import pandas as pd\n",
    "import numpy as np\n",
    "from sklearn import preprocessing\n",
    "from sklearn.preprocessing import LabelEncoder,OneHotEncoder\n",
    "from sklearn.naive_bayes import GaussianNB,MultinomialNB\n",
    "from google.colab import drive\n",
    "\n",
    "drive.mount('/content/drive')\n",
    "datasets = pd.read_csv(\"/content/drive/MyDrive/Colab Notebooks/Dataset1.csv\")\n",
    "arr = datasets.values\n",
    "print(datasets)\n",
    "le=LabelEncoder()\n",
    "X=datasets.iloc[:,:-1].values\n",
    "Y=datasets.iloc[:,4:].values\n",
    "X[ : ,0] = le.fit_transform(X[ : ,0])\n",
    "X[ : ,1] = le.fit_transform(X[ : ,1])\n",
    "X[ : ,2] = le.fit_transform(X[ : ,2])\n",
    "X[ : ,3] = le.fit_transform(X[ : ,3])\n",
    "Y[ : ,0] = le.fit_transform(Y[ : ,0])\n",
    "onehotencoder = OneHotEncoder()\n",
    "Outlook_encoded = onehotencoder.fit_transform(X[ :, 0].reshape(-1,1)).toarray()\n",
    "Temp_encoded = onehotencoder.fit_transform(X[ :, 1].reshape(-1,1)).toarray()\n",
    "Humidity_encoded = onehotencoder.fit_transform(X[ :, 2].reshape(-1,1)).toarray()\n",
    "Wind_encoded = onehotencoder.fit_transform(X[ :, 3].reshape(-1,1)).toarray()\n",
    "Play_encoded = onehotencoder.fit_transform(Y.reshape(-1,1)).toarray()"
   ]
  },
  {
   "cell_type": "code",
   "execution_count": null,
   "metadata": {
    "id": "HfcoisptoXIF"
   },
   "outputs": [],
   "source": []
  },
  {
   "cell_type": "code",
   "execution_count": null,
   "metadata": {
    "colab": {
     "base_uri": "https://localhost:8080/"
    },
    "id": "9094alivkWdE",
    "outputId": "82523ed9-838f-4a47-f69e-71f07704ed1d"
   },
   "outputs": [
    {
     "name": "stdout",
     "output_type": "stream",
     "text": [
      "Features:  [array([0., 1., 0.]) array([0., 1., 0.]) array([0., 0., 1.])\n",
      " array([1., 0.]) array([0., 1., 0.]) array([0., 1., 0.])\n",
      " array([1., 0., 0.]) array([0., 1.]) array([1., 0., 0.])\n",
      " array([0., 1., 0.]) array([0., 0., 1.]) array([1., 0.])\n",
      " array([0., 0., 1.]) array([0., 0., 1.]) array([0., 0., 1.])\n",
      " array([1., 0.]) array([0., 0., 1.]) array([1., 0., 0.])\n",
      " array([0., 0., 1.]) array([1., 0.]) array([0., 0., 1.])\n",
      " array([1., 0., 0.]) array([0., 1., 0.]) array([0., 1.])\n",
      " array([1., 0., 0.]) array([1., 0., 0.]) array([0., 0., 1.])\n",
      " array([0., 1.]) array([0., 1., 0.]) array([0., 0., 1.])\n",
      " array([0., 0., 1.]) array([1., 0.]) array([0., 1., 0.])\n",
      " array([1., 0., 0.]) array([0., 1., 0.]) array([1., 0.])\n",
      " array([0., 0., 1.]) array([0., 0., 1.]) array([1., 0., 0.])\n",
      " array([1., 0.]) array([0., 1., 0.]) array([0., 0., 1.])\n",
      " array([1., 0., 0.]) array([0., 1.]) array([1., 0., 0.])\n",
      " array([0., 0., 1.]) array([0., 1., 0.]) array([0., 1.])\n",
      " array([1., 0., 0.]) array([0., 1., 0.]) array([0., 0., 1.])\n",
      " array([1., 0.]) array([0., 0., 1.]) array([0., 0., 1.])\n",
      " array([0., 0., 1.]) array([0., 1.])]\n",
      "Target:  [[1. 0.]\n",
      " [1. 0.]\n",
      " [0. 1.]\n",
      " [0. 1.]\n",
      " [0. 1.]\n",
      " [1. 0.]\n",
      " [0. 1.]\n",
      " [1. 0.]\n",
      " [0. 1.]\n",
      " [0. 1.]\n",
      " [0. 1.]\n",
      " [0. 1.]\n",
      " [0. 1.]\n",
      " [1. 0.]]\n"
     ]
    }
   ],
   "source": [
    "features= np.array(list(zip(Outlook_encoded,Temp_encoded,Humidity_encoded,Wind_encoded)),dtype=object)\n",
    "features = features.flatten()\n",
    "print(\"Features: \", features)\n",
    "print(\"Target: \",Play_encoded)"
   ]
  },
  {
   "cell_type": "code",
   "execution_count": null,
   "metadata": {
    "id": "YZ62kDKSoche"
   },
   "outputs": [],
   "source": []
  },
  {
   "cell_type": "code",
   "execution_count": null,
   "metadata": {
    "colab": {
     "base_uri": "https://localhost:8080/"
    },
    "id": "2VFFo4ANkWdF",
    "outputId": "850ab10f-41a5-436b-834c-c69034447d83"
   },
   "outputs": [
    {
     "name": "stdout",
     "output_type": "stream",
     "text": [
      "(9, 4) (9, 2)\n"
     ]
    }
   ],
   "source": [
    "from sklearn.model_selection import train_test_split\n",
    "data_train, data_test, target_train, target_test = train_test_split(X,\n",
    "Play_encoded, test_size = 0.30, random_state = 4)\n",
    "print(data_train.shape,target_train.shape)"
   ]
  },
  {
   "cell_type": "code",
   "execution_count": null,
   "metadata": {
    "id": "xMFVb__GpdEm"
   },
   "outputs": [],
   "source": []
  },
  {
   "cell_type": "code",
   "execution_count": null,
   "metadata": {
    "colab": {
     "base_uri": "https://localhost:8080/"
    },
    "id": "JnDKbv0KkWdF",
    "outputId": "4367ce0d-f9e0-444b-e3c6-b9af511e1982"
   },
   "outputs": [
    {
     "name": "stdout",
     "output_type": "stream",
     "text": [
      "[[ 1.5         1.20604538  0.81649658  1.11803399]\n",
      " [-1.5        -0.15075567  0.81649658 -0.89442719]\n",
      " [ 0.         -0.15075567  0.81649658 -0.89442719]\n",
      " [-1.5        -0.15075567  0.81649658 -0.89442719]\n",
      " [ 0.         -1.50755672 -0.40824829 -0.89442719]\n",
      " [ 0.         -0.15075567 -1.63299316  1.11803399]\n",
      " [ 1.5        -1.50755672 -0.40824829  1.11803399]\n",
      " [ 0.          1.20604538  0.81649658 -0.89442719]\n",
      " [ 0.          1.20604538 -1.63299316  1.11803399]]\n",
      "[[1. 0.]\n",
      " [0. 1.]\n",
      " [1. 0.]\n",
      " [0. 1.]\n",
      " [0. 1.]\n",
      " [1. 0.]\n",
      " [1. 0.]\n",
      " [1. 0.]\n",
      " [0. 1.]]\n",
      "[1. 1. 0. 1. 0.]\n"
     ]
    }
   ],
   "source": [
    "import numpy as np\n",
    "from sklearn.preprocessing import StandardScaler\n",
    "sc = StandardScaler()\n",
    "data_train = sc.fit_transform(data_train)\n",
    "data_test = sc.transform(data_test)\n",
    "print(data_train)\n",
    "model=GaussianNB()\n",
    "print(target_train)\n",
    "model.fit(data_train,target_train[:,0])\n",
    "target_pred0 = model.predict(data_test)\n",
    "print(target_pred0)"
   ]
  },
  {
   "cell_type": "code",
   "execution_count": null,
   "metadata": {
    "id": "p1UKqXePpgsg"
   },
   "outputs": [],
   "source": []
  },
  {
   "cell_type": "code",
   "execution_count": null,
   "metadata": {
    "colab": {
     "base_uri": "https://localhost:8080/"
    },
    "id": "nDoNlnI-kWdG",
    "outputId": "e9fe4580-cc02-4e89-91de-8e83a9d44844"
   },
   "outputs": [
    {
     "name": "stdout",
     "output_type": "stream",
     "text": [
      "[0. 0. 1. 0. 1.]\n"
     ]
    }
   ],
   "source": [
    "classifier1 = GaussianNB()\n",
    "classifier1.fit(data_train,target_train[:,1])\n",
    "target_pred1 = classifier1.predict(data_test)\n",
    "print(target_pred1)"
   ]
  },
  {
   "cell_type": "code",
   "execution_count": null,
   "metadata": {
    "id": "xC6mRnV0plar"
   },
   "outputs": [],
   "source": []
  },
  {
   "cell_type": "code",
   "execution_count": null,
   "metadata": {
    "colab": {
     "base_uri": "https://localhost:8080/"
    },
    "id": "ov4YasEBkWdG",
    "outputId": "85088b59-7e66-4423-ef52-f112c01a5535"
   },
   "outputs": [
    {
     "name": "stdout",
     "output_type": "stream",
     "text": [
      "[[1. 0.]\n",
      " [1. 0.]\n",
      " [0. 1.]\n",
      " [1. 0.]\n",
      " [0. 1.]]\n"
     ]
    }
   ],
   "source": [
    "target_predicted=np.column_stack((target_pred0,target_pred1))\n",
    "print(target_predicted)"
   ]
  },
  {
   "cell_type": "code",
   "execution_count": null,
   "metadata": {
    "id": "o9lwFwsEpqNO"
   },
   "outputs": [],
   "source": []
  },
  {
   "cell_type": "code",
   "execution_count": null,
   "metadata": {
    "colab": {
     "base_uri": "https://localhost:8080/"
    },
    "id": "zFm5cWOEkWdH",
    "outputId": "ec4b7a36-a4e0-490a-cd35-47cecbdcc34c"
   },
   "outputs": [
    {
     "name": "stdout",
     "output_type": "stream",
     "text": [
      "Accuracy: 0.4\n"
     ]
    }
   ],
   "source": [
    "from sklearn import metrics\n",
    "print(\"Accuracy:\",metrics.accuracy_score(target_test, target_predicted))"
   ]
  },
  {
   "cell_type": "code",
   "execution_count": null,
   "metadata": {
    "colab": {
     "base_uri": "https://localhost:8080/"
    },
    "id": "S_QSxlCQkWdI",
    "outputId": "15bf74e2-e9bc-4d77-8fae-76c02bcfa4cd"
   },
   "outputs": [
    {
     "name": "stdout",
     "output_type": "stream",
     "text": [
      "precision: [0. 1.]\n",
      "recall: [0.  0.4]\n"
     ]
    },
    {
     "name": "stderr",
     "output_type": "stream",
     "text": [
      "/usr/local/lib/python3.7/dist-packages/sklearn/metrics/_classification.py:1318: UndefinedMetricWarning: Recall is ill-defined and being set to 0.0 in labels with no true samples. Use `zero_division` parameter to control this behavior.\n",
      "  _warn_prf(average, modifier, msg_start, len(result))\n"
     ]
    }
   ],
   "source": [
    "from sklearn.metrics import precision_score\n",
    "from sklearn.metrics import recall_score\n",
    "precision = precision_score(target_test, target_predicted, average=None)\n",
    "recall = recall_score(target_test, target_predicted, average=None)\n",
    "print('precision: {}'.format(precision))\n",
    "print('recall: {}'.format(recall))"
   ]
  },
  {
   "cell_type": "code",
   "execution_count": null,
   "metadata": {
    "colab": {
     "base_uri": "https://localhost:8080/"
    },
    "id": "JLBKiqgOkWdJ",
    "outputId": "5b6fb09d-7cef-459c-aa01-bdd8be0d453a"
   },
   "outputs": [
    {
     "name": "stdout",
     "output_type": "stream",
     "text": [
      "['pixel_0_0', 'pixel_0_1', 'pixel_0_2', 'pixel_0_3', 'pixel_0_4', 'pixel_0_5', 'pixel_0_6', 'pixel_0_7', 'pixel_1_0', 'pixel_1_1', 'pixel_1_2', 'pixel_1_3', 'pixel_1_4', 'pixel_1_5', 'pixel_1_6', 'pixel_1_7', 'pixel_2_0', 'pixel_2_1', 'pixel_2_2', 'pixel_2_3', 'pixel_2_4', 'pixel_2_5', 'pixel_2_6', 'pixel_2_7', 'pixel_3_0', 'pixel_3_1', 'pixel_3_2', 'pixel_3_3', 'pixel_3_4', 'pixel_3_5', 'pixel_3_6', 'pixel_3_7', 'pixel_4_0', 'pixel_4_1', 'pixel_4_2', 'pixel_4_3', 'pixel_4_4', 'pixel_4_5', 'pixel_4_6', 'pixel_4_7', 'pixel_5_0', 'pixel_5_1', 'pixel_5_2', 'pixel_5_3', 'pixel_5_4', 'pixel_5_5', 'pixel_5_6', 'pixel_5_7', 'pixel_6_0', 'pixel_6_1', 'pixel_6_2', 'pixel_6_3', 'pixel_6_4', 'pixel_6_5', 'pixel_6_6', 'pixel_6_7', 'pixel_7_0', 'pixel_7_1', 'pixel_7_2', 'pixel_7_3', 'pixel_7_4', 'pixel_7_5', 'pixel_7_6', 'pixel_7_7']\n"
     ]
    }
   ],
   "source": [
    "import sklearn\n",
    "from sklearn import datasets\n",
    "digit_data = sklearn.datasets.load_digits();\n",
    "features = digit_data.feature_names\n",
    "targets = digit_data.target_names\n",
    "print(digit_data.feature_names)"
   ]
  },
  {
   "cell_type": "code",
   "execution_count": null,
   "metadata": {
    "colab": {
     "base_uri": "https://localhost:8080/"
    },
    "id": "UG2QB7HFkWdJ",
    "outputId": "7935ae1f-c92c-435d-eaf2-5957776e1106"
   },
   "outputs": [
    {
     "name": "stdout",
     "output_type": "stream",
     "text": [
      "[[ 0.  0.  0. ...  0.  0.  0.]\n",
      " [ 0.  0.  1. ...  0.  0.  0.]\n",
      " [ 0.  0.  5. ...  4.  0.  0.]\n",
      " ...\n",
      " [ 0.  0.  1. ...  7.  0.  0.]\n",
      " [ 0.  0.  7. ... 10.  0.  0.]\n",
      " [ 0.  0.  9. ...  0.  0.  0.]]\n"
     ]
    },
    {
     "data": {
      "text/plain": [
       "array([[ 0.,  0.,  5., ...,  1.,  0.,  0.],\n",
       "       [ 0.,  0., 11., ...,  0.,  0.,  0.],\n",
       "       [ 0.,  0.,  0., ..., 12.,  0.,  0.],\n",
       "       ...,\n",
       "       [ 0.,  0.,  3., ..., 10.,  0.,  0.],\n",
       "       [ 0.,  0.,  1., ...,  0.,  0.,  0.],\n",
       "       [ 0.,  0.,  8., ..., 10.,  1.,  0.]])"
      ]
     },
     "execution_count": 15,
     "metadata": {},
     "output_type": "execute_result"
    }
   ],
   "source": [
    "from sklearn.model_selection import train_test_split\n",
    "data_train, data_test, target_train, target_test = train_test_split(digit_data.data,\n",
    "digit_data.target, test_size = 0.30, random_state = 4)\n",
    "print(data_test)\n",
    "data_train"
   ]
  },
  {
   "cell_type": "code",
   "execution_count": null,
   "metadata": {
    "id": "pmcGs3s-kWdK"
   },
   "outputs": [],
   "source": [
    "import numpy as np\n",
    "gnb = GaussianNB()\n",
    "gnb.fit(data_train, target_train)\n",
    "target_pred = gnb.predict(data_test)"
   ]
  },
  {
   "cell_type": "code",
   "execution_count": null,
   "metadata": {
    "colab": {
     "base_uri": "https://localhost:8080/"
    },
    "id": "a9xlB3oCkWdK",
    "outputId": "691f85e9-da12-4ef7-e12c-020fdb82ffe2"
   },
   "outputs": [
    {
     "name": "stdout",
     "output_type": "stream",
     "text": [
      "Accuracy: 0.8648148148148148\n"
     ]
    }
   ],
   "source": [
    "from sklearn import metrics\n",
    "print(\"Accuracy:\",metrics.accuracy_score(target_test, target_pred))"
   ]
  },
  {
   "cell_type": "code",
   "execution_count": null,
   "metadata": {
    "colab": {
     "base_uri": "https://localhost:8080/"
    },
    "id": "IACvBAwdkWdL",
    "outputId": "d7bdfbea-5101-41da-8efb-6aa1ce087cac"
   },
   "outputs": [
    {
     "data": {
      "text/plain": [
       "array([[52,  0,  0,  0,  0,  0,  0,  1,  0,  0],\n",
       "       [ 0, 37,  2,  0,  0,  0,  1,  3,  6,  2],\n",
       "       [ 0,  3, 44,  0,  1,  0,  0,  0,  6,  0],\n",
       "       [ 0,  0,  1, 40,  0,  3,  1,  0,  8,  2],\n",
       "       [ 0,  1,  0,  0, 48,  1,  2,  2,  0,  0],\n",
       "       [ 0,  0,  0,  0,  0, 55,  2,  0,  0,  1],\n",
       "       [ 0,  0,  1,  0,  1,  1, 49,  0,  0,  0],\n",
       "       [ 0,  0,  0,  0,  0,  1,  0, 54,  0,  0],\n",
       "       [ 0,  2,  0,  1,  0,  0,  0,  2, 50,  0],\n",
       "       [ 0,  3,  1,  1,  0,  0,  0,  5,  5, 38]])"
      ]
     },
     "execution_count": 18,
     "metadata": {},
     "output_type": "execute_result"
    }
   ],
   "source": [
    "from sklearn.metrics import confusion_matrix\n",
    "confusion_matrix(target_test, target_pred)"
   ]
  },
  {
   "cell_type": "code",
   "execution_count": null,
   "metadata": {
    "colab": {
     "base_uri": "https://localhost:8080/"
    },
    "id": "uhYZTV6VkWdL",
    "outputId": "d7cf1eb5-5883-4beb-ada0-187e7d8ba69c"
   },
   "outputs": [
    {
     "name": "stdout",
     "output_type": "stream",
     "text": [
      "precision: [1.         0.80434783 0.89795918 0.95238095 0.96       0.90163934\n",
      " 0.89090909 0.80597015 0.66666667 0.88372093]\n",
      "recall: [0.98113208 0.7254902  0.81481481 0.72727273 0.88888889 0.94827586\n",
      " 0.94230769 0.98181818 0.90909091 0.71698113]\n"
     ]
    }
   ],
   "source": [
    "\n",
    "from sklearn.metrics import precision_score\n",
    "from sklearn.metrics import recall_score\n",
    "precision = precision_score(target_test, target_pred, average=None)\n",
    "recall = recall_score(target_test, target_pred, average=None)\n",
    "print('precision: {}'.format(precision))\n",
    "print('recall: {}'.format(recall))"
   ]
  },
  {
   "cell_type": "code",
   "execution_count": null,
   "metadata": {
    "colab": {
     "base_uri": "https://localhost:8080/"
    },
    "id": "1cgs7mVPkWdM",
    "outputId": "602e63d1-6294-45c1-e7ad-7869d988f450"
   },
   "outputs": [
    {
     "name": "stdout",
     "output_type": "stream",
     "text": [
      "Predicted Value: [1.]\n"
     ]
    }
   ],
   "source": [
    "predicted= model.predict([[2,1,1,0]])\n",
    "print(\"Predicted Value:\", predicted)"
   ]
  }
 ],
 "metadata": {
  "colab": {
   "provenance": []
  },
  "kernelspec": {
   "display_name": "Python 3 (ipykernel)",
   "language": "python",
   "name": "python3"
  },
  "language_info": {
   "codemirror_mode": {
    "name": "ipython",
    "version": 3
   },
   "file_extension": ".py",
   "mimetype": "text/x-python",
   "name": "python",
   "nbconvert_exporter": "python",
   "pygments_lexer": "ipython3",
   "version": "3.9.13"
  }
 },
 "nbformat": 4,
 "nbformat_minor": 1
}
